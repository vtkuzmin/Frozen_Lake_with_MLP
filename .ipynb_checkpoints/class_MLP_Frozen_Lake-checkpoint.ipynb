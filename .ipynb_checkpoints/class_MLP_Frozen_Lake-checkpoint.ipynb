{
 "cells": [
  {
   "cell_type": "code",
   "execution_count": null,
   "metadata": {
    "collapsed": true
   },
   "outputs": [],
   "source": []
  },
  {
   "cell_type": "code",
   "execution_count": 2,
   "metadata": {
    "collapsed": true
   },
   "outputs": [],
   "source": [
    "import numpy as np"
   ]
  },
  {
   "cell_type": "code",
   "execution_count": 448,
   "metadata": {
    "collapsed": true
   },
   "outputs": [],
   "source": [
    "def sigmoid(x):\n",
    "        return 1/(1+np.exp(-x))\n",
    "    \n",
    "def derivative_sigmoid(x):\n",
    "        return sigmoid(x) * (1 - sigmoid(x))\n",
    "    \n",
    "def relu(x):\n",
    "        return np.maximum(x, 0)\n",
    "\n",
    "def derivative_relu(x):\n",
    "        x[x<=0] = 0\n",
    "        x[x>0] = 1\n",
    "        return x\n",
    "        \n",
    "def identity(x):\n",
    "        return x\n",
    "    \n",
    "def derivative_identity(x):\n",
    "        return 1\n",
    "    \n",
    "activation = {'sigmoid': sigmoid, 'relu': relu, 'linear': identity}\n",
    "derivatives = {'sigmoid': derivative_sigmoid, 'relu': derivative_relu,  'identity': derivative_identity}"
   ]
  },
  {
   "cell_type": "code",
   "execution_count": 1041,
   "metadata": {
    "collapsed": false
   },
   "outputs": [],
   "source": [
    "class MLP:    \n",
    "    \n",
    "    def __init__(self, n_input, n_hidden, n_output, f_hidden, f_output, bias = True):\n",
    "        self.n_input = n_input\n",
    "        self.n_hidden = n_hidden\n",
    "        self.n_output = n_output\n",
    "        self.f1 = activation[f_hidden]\n",
    "        self.f2 = activation[f_output]\n",
    "        self.bias = int(bias)\n",
    "        self.initialize_weights()\n",
    "        \n",
    "    def initialize_weights(self):\n",
    "        self.W1 = np.random.uniform(-1/(2*self.n_input), 1/(2*self.n_input), \n",
    "                                    size = (self.n_input+self.bias, self.n_hidden))\n",
    "        self.W2 = np.random.uniform(-1/(2*self.n_hidden), 1/(2*self.n_hidden), \n",
    "                                    size = (self.n_hidden+self.bias, self.n_output))\n",
    "        \n",
    "    # Forward propagation \n",
    "    # x - input vector [L,n]\n",
    "    # W1 - weight matrix [n,H], where H - number of hidden units\n",
    "    # f1 - activation function of the hidden layer\n",
    "    # W2 - weight matrix [H,m], where m - number of output units\n",
    "    # f2 - activation function of the output layer\n",
    "    # U - output of the hidden layer, A - output of the network\n",
    "    def feed_forward(self, X):\n",
    "        \n",
    "        if not isinstance(X, np.ndarray):\n",
    "            print(\"X is not a np.array\")\n",
    "            return _\n",
    "        \n",
    "        if len(X.shape) == 1:\n",
    "            X = X[np.newaxis, :]\n",
    "            \n",
    "        if self.bias:\n",
    "            b = np.array([-1 for i in range(X.shape[0])])\n",
    "            b  = b[:,np.newaxis]\n",
    "            X = np.hstack((b, X))\n",
    "        \n",
    "        u0 = np.dot(X, self.W1) # 1 x H\n",
    "        U = self.f1(u0) # 1 x H\n",
    "        \n",
    "        if self.bias:\n",
    "            b = np.array([-1 for i in range(U.shape[0])])\n",
    "            b  = b[:,np.newaxis]\n",
    "            U1 = np.hstack((b, U)) # 1 x H+1\n",
    "            \n",
    "        a0 = np.dot(U1,self.W2) # 1 x M\n",
    "        A = self.f2(a0) # 1 x M\n",
    "        \n",
    "        return X, u0, U, U1, a0, A\n",
    "    \n",
    "    def predict(self, X):\n",
    "        _,_,_,_,_,y = self.feed_forward(X)\n",
    "        return y\n",
    "    \n",
    "    def calculate_error(self, X, y):\n",
    "        \n",
    "        if len(X.shape) == 1:\n",
    "            X = X[np.newaxis, :]\n",
    "        if len(y.shape) == 1:\n",
    "            y = y[:,np.newaxis]\n",
    "            \n",
    "        l = X.shape[0]\n",
    "        \n",
    "        X_pred = self.predict(X)\n",
    "        Q = 0\n",
    "        for i in range(l):\n",
    "            q_i = 1/2*np.sum((X_pred[i]-y[i])**2)\n",
    "            Q += q_i\n",
    "        return Q/l\n",
    "        \n",
    "    \n",
    "    def training(self, X, y,n = 0.5, eps = 10e-9, verbose = False):\n",
    "        if len(X.shape) == 1:\n",
    "            X = X[np.newaxis, :]\n",
    "        if len(y.shape) == 1:\n",
    "            y = y[:,np.newaxis]\n",
    "            \n",
    "        l = X.shape[0]\n",
    "        \n",
    "        X_pred = self.predict(X)\n",
    "        \n",
    "        # initialize the error\n",
    "        Q = 0\n",
    "        for i in range(l):\n",
    "            q_i = 1/2*np.sum((X_pred[i]-y[i])**2)\n",
    "            Q += q_i\n",
    "        Q = Q/l\n",
    "        \n",
    "        while(True):\n",
    "            i = np.random.randint(0,l)\n",
    "            #forward:\n",
    "            X_bias, u0, u, u1, a0, a = self.feed_forward(X[i])\n",
    "            e_m = a - y[i] # 1 x M\n",
    "            q_i = np.sum(e_m**2)\n",
    "            #backward:\n",
    "            e_h = np.dot(e_m * derivatives[self.f2](a0), np.transpose(self.W2[1:,:])) # 1 x H \n",
    "            #grad_step:\n",
    "            self.W2 -= n * np.dot(np.transpose(u1), e_m*derivatives[self.f2](a0))\n",
    "            self.W1 -= n * np.dot(np.transpose(X_bias), e_h*derivatives[self.f1](u0))\n",
    "            \n",
    "            Q_old = Q\n",
    "            Q = (l-1)/l*Q + 1/l*q_i\n",
    "            \n",
    "            if np.abs(Q-Q_old)<eps:\n",
    "                break\n",
    "        if verbose:\n",
    "            print(\"Train error: \",Q)"
   ]
  },
  {
   "cell_type": "code",
   "execution_count": 811,
   "metadata": {
    "collapsed": false
   },
   "outputs": [
    {
     "name": "stderr",
     "output_type": "stream",
     "text": [
      "[2017-10-05 21:28:52,583] Making new env: FrozenLake-v0\n"
     ]
    }
   ],
   "source": [
    "import gym\n",
    "env = gym.make('FrozenLake-v0')"
   ]
  },
  {
   "cell_type": "code",
   "execution_count": 1125,
   "metadata": {
    "collapsed": true
   },
   "outputs": [],
   "source": [
    "model_RL = MLP(16, 16, 4, 'relu', 'linear')"
   ]
  },
  {
   "cell_type": "code",
   "execution_count": 1126,
   "metadata": {
    "collapsed": false
   },
   "outputs": [],
   "source": [
    "num_episodes = 2000\n",
    "gamma = 0.99 #since it may take several moves to goal, making gamma high\n",
    "epsilon = 0.1\n",
    "#create list to contain total rewards\n",
    "jList = []\n",
    "rList = []\n",
    "for i in range(num_episodes):\n",
    "    s = env.reset()\n",
    "    rAll = 0\n",
    "    d = False\n",
    "    j = 0\n",
    "    #The Q-Network\n",
    "    while 1: #j < 99:\n",
    "        #j+=1\n",
    "        qval = model_RL.predict(np.identity(16)[s:s+1])\n",
    "        if (np.random.rand(1) < epsilon): #choose random action\n",
    "            action = env.action_space.sample()\n",
    "        else: #choose best action from Q(s,a) values\n",
    "            action = (np.argmax(qval))\n",
    "        s1, r, d, _ = env.step(action)\n",
    "        Q1 = model_RL.predict(np.identity(16)[s1:s1+1])\n",
    "        maxQ1 = np.max(Q1)\n",
    "        targetQ = qval\n",
    "        targetQ[0,action] = r + gamma*maxQ1\n",
    "        #Train our network using target and predicted Q values\n",
    "        model_RL.training(np.identity(16)[s:s+1], targetQ, n = 0.1)\n",
    "        rAll += r\n",
    "        s = s1\n",
    "        if d == True:\n",
    "            #Reduce chance of random action as we train the model.\n",
    "            epsilon = 1./((i/50) + 10)\n",
    "            break\n",
    "        \n",
    "    #jList.append(j)\n",
    "    rList.append(rAll)"
   ]
  },
  {
   "cell_type": "code",
   "execution_count": 1127,
   "metadata": {
    "collapsed": false
   },
   "outputs": [
    {
     "name": "stdout",
     "output_type": "stream",
     "text": [
      "Percent of succesful episodes: 0.0365\n"
     ]
    }
   ],
   "source": [
    "print (\"Percent of succesful episodes: \" + str(sum(rList)/num_episodes))"
   ]
  },
  {
   "cell_type": "code",
   "execution_count": 1128,
   "metadata": {
    "collapsed": false
   },
   "outputs": [
    {
     "data": {
      "text/plain": [
       "[<matplotlib.lines.Line2D at 0x116081780>]"
      ]
     },
     "execution_count": 1128,
     "metadata": {},
     "output_type": "execute_result"
    },
    {
     "data": {
      "image/png": "[encoded data removed]",
      "text/plain": [
       "<matplotlib.figure.Figure at 0x115d93940>"
      ]
     },
     "metadata": {},
     "output_type": "display_data"
    }
   ],
   "source": [
    "plt.plot(rList)"
   ]
  },
  {
   "cell_type": "markdown",
   "metadata": {},
   "source": [
    "__Покажем, что сеть работает__"
   ]
  },
  {
   "cell_type": "code",
   "execution_count": 1010,
   "metadata": {
    "collapsed": true
   },
   "outputs": [],
   "source": [
    "from sklearn import datasets\n",
    "# import some data to play with\n",
    "iris = datasets.load_iris()\n",
    "X = iris.data # we only take the first two features.\n",
    "y = iris.target"
   ]
  },
  {
   "cell_type": "code",
   "execution_count": 1003,
   "metadata": {
    "collapsed": true
   },
   "outputs": [],
   "source": [
    "from sklearn.model_selection import train_test_split"
   ]
  },
  {
   "cell_type": "code",
   "execution_count": 1013,
   "metadata": {
    "collapsed": true
   },
   "outputs": [],
   "source": [
    "y_new = np.zeros((len(y),3))"
   ]
  },
  {
   "cell_type": "code",
   "execution_count": 1014,
   "metadata": {
    "collapsed": true
   },
   "outputs": [],
   "source": [
    "for i in range(len(y)):\n",
    "    y_new[i,y[i]] = 1"
   ]
  },
  {
   "cell_type": "code",
   "execution_count": 1016,
   "metadata": {
    "collapsed": true
   },
   "outputs": [],
   "source": [
    "X_train, X_test, y_train, y_test = train_test_split(X, y_new, test_size=0.33, random_state=42)"
   ]
  },
  {
   "cell_type": "code",
   "execution_count": 1021,
   "metadata": {
    "collapsed": true
   },
   "outputs": [],
   "source": [
    "model = MLP(4,8,3, 'sigmoid', 'sigmoid')"
   ]
  },
  {
   "cell_type": "code",
   "execution_count": 1038,
   "metadata": {
    "collapsed": false
   },
   "outputs": [],
   "source": [
    "model.training(X_train,y_train)"
   ]
  },
  {
   "cell_type": "code",
   "execution_count": 1039,
   "metadata": {
    "collapsed": false
   },
   "outputs": [],
   "source": [
    "y_pred = model.predict(X_test)\n",
    "y_pred2 = []\n",
    "y_test2 = []\n",
    "for i in range(len(X_test)):\n",
    "    y_pred2.append(np.argmax(y_pred[i]))\n",
    "    y_test2.append(np.argmax(y_test[i]))"
   ]
  },
  {
   "cell_type": "code",
   "execution_count": 1036,
   "metadata": {
    "collapsed": false
   },
   "outputs": [
    {
     "data": {
      "text/plain": [
       "array([1, 0, 2, 1, 1, 0, 1, 1, 1, 1, 1, 0, 0, 0, 0, 1, 2, 1, 1, 2, 0, 1, 0,\n",
       "       2, 1, 2, 2, 2, 0, 0, 0, 0, 1, 0, 0, 2, 1, 0, 0, 0, 2, 1, 1, 0, 0, 1,\n",
       "       1, 2, 1, 2])"
      ]
     },
     "execution_count": 1036,
     "metadata": {},
     "output_type": "execute_result"
    }
   ],
   "source": [
    "#после первого запуска\n",
    "np.array(y_pred2)"
   ]
  },
  {
   "cell_type": "code",
   "execution_count": 1037,
   "metadata": {
    "collapsed": false
   },
   "outputs": [
    {
     "data": {
      "text/plain": [
       "array([1, 0, 2, 1, 1, 0, 1, 2, 1, 1, 2, 0, 0, 0, 0, 1, 2, 1, 1, 2, 0, 2, 0,\n",
       "       2, 2, 2, 2, 2, 0, 0, 0, 0, 1, 0, 0, 2, 1, 0, 0, 0, 2, 1, 1, 0, 0, 1,\n",
       "       2, 2, 1, 2])"
      ]
     },
     "execution_count": 1037,
     "metadata": {},
     "output_type": "execute_result"
    }
   ],
   "source": [
    "# тест\n",
    "np.array(y_test2)"
   ]
  },
  {
   "cell_type": "code",
   "execution_count": 1040,
   "metadata": {
    "collapsed": false
   },
   "outputs": [
    {
     "data": {
      "text/plain": [
       "array([1, 0, 2, 1, 1, 0, 1, 2, 1, 1, 2, 0, 0, 0, 0, 1, 2, 1, 1, 2, 0, 2, 0,\n",
       "       2, 2, 2, 2, 2, 0, 0, 0, 0, 1, 0, 0, 2, 1, 0, 0, 0, 2, 1, 1, 0, 0, 1,\n",
       "       2, 2, 1, 2])"
      ]
     },
     "execution_count": 1040,
     "metadata": {},
     "output_type": "execute_result"
    }
   ],
   "source": [
    "#после второго запуска - 100% точность \n",
    "np.array(y_pred2)"
   ]
  }
 ],
 "metadata": {
  "kernelspec": {
   "display_name": "Python 3",
   "language": "python",
   "name": "python3"
  },
  "language_info": {
   "codemirror_mode": {
    "name": "ipython",
    "version": 3
   },
   "file_extension": ".py",
   "mimetype": "text/x-python",
   "name": "python",
   "nbconvert_exporter": "python",
   "pygments_lexer": "ipython3",
   "version": "3.6.0"
  }
 },
 "nbformat": 4,
 "nbformat_minor": 2
}
